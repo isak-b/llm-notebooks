{
 "cells": [
  {
   "cell_type": "code",
   "execution_count": null,
   "metadata": {},
   "outputs": [],
   "source": [
    "from IPython.display import Image\n",
    "from dotenv import load_dotenv\n",
    "from openai import OpenAI\n",
    "\n",
    "# Load .env\n",
    "load_dotenv(override=True)\n",
    "\n",
    "# Configure API\n",
    "model = \"dall-e-3\"\n",
    "client = OpenAI()\n"
   ]
  },
  {
   "cell_type": "code",
   "execution_count": null,
   "metadata": {},
   "outputs": [],
   "source": [
    "prompt = \"\"\"\n",
    "Bilden föreställer en person iklädd en blå sjukhusuniform med kortsleeve, som bär en namnbricka och \n",
    "har en ficka full med diverse pennor i olika färger och en sax. Personen är vänd mot en äldre person \n",
    "med grått, kort hår och bär ett vitt plagg som kan antas vara en sjukhusklädsel eller en enkel blus. \n",
    "De verkar vara i en medicinsk miljö, med en vit vägg i bakgrunden och synliga medicinska apparater och \n",
    "kablar. Den äldre personen är suddigt fokuserad och verkar vara i en sittande ställning. Interaktionen \n",
    "verkar vänlig och professionell, med en uppenbar vårdrelation mellan de två personerna. Atmosfären tyder \n",
    "på en lugn och stödjande sjukhusmiljö.\n",
    "\"\"\"\n",
    "print(f\"user: {prompt}\")\n",
    "\n",
    "# Generate image\n",
    "result = client.images.generate(model=model, prompt=prompt, n=1, style=\"natural\")\n",
    "revised_prompt = result.data[0].revised_prompt\n",
    "print(f\"revised_prompt: {revised_prompt}\")\n",
    "image_url = result.data[0].url\n",
    "Image(url=image_url)\n"
   ]
  },
  {
   "cell_type": "code",
   "execution_count": null,
   "metadata": {},
   "outputs": [],
   "source": []
  }
 ],
 "metadata": {
  "kernelspec": {
   "display_name": "Python 3",
   "language": "python",
   "name": "python3"
  },
  "language_info": {
   "codemirror_mode": {
    "name": "ipython",
    "version": 3
   },
   "file_extension": ".py",
   "mimetype": "text/x-python",
   "name": "python",
   "nbconvert_exporter": "python",
   "pygments_lexer": "ipython3",
   "version": "3.10.12"
  }
 },
 "nbformat": 4,
 "nbformat_minor": 2
}
