{
 "cells": [
  {
   "cell_type": "code",
   "execution_count": null,
   "metadata": {},
   "outputs": [],
   "source": [
    "import os\n",
    "import requests\n",
    "from IPython.display import Image\n",
    "from dotenv import load_dotenv\n",
    "\n",
    "# Guide: https://learn.microsoft.com/en-us/azure/ai-services/openai/how-to/gpt-with-vision\n",
    "\n",
    "# Load .env\n",
    "load_dotenv(override=True)\n",
    "\n",
    "# TODO: Update API to work with standard OpenAI (not Azure)\n",
    "# Configure API\n",
    "model = \"gpt-4-vision\"\n",
    "api_base=os.getenv(\"AZURE_OPENAI_ENDPOINT\")\n",
    "api_version=os.getenv(\"AZURE_OPENAI_VERSION\")\n",
    "api_key=os.getenv(\"AZURE_OPENAI_KEY\")\n",
    "gpt4v_endpoint = f\"{api_base}/openai/deployments/{model}/chat/completions?api-version={api_version}\"\n",
    "headers = {\"Content-Type\": \"application/json\", \"api-key\": api_key}\n",
    "\n",
    "# Reset history\n",
    "history = []"
   ]
  },
  {
   "cell_type": "code",
   "execution_count": null,
   "metadata": {},
   "outputs": [],
   "source": [
    "instructions = \"\"\"\n",
    "Du är en hjälpsam assistent.\n",
    "\"\"\"\n",
    "system_msg = {\"role\": \"system\", \"content\": [{\"type\": \"text\", \"text\": instructions}]}\n"
   ]
  },
  {
   "cell_type": "code",
   "execution_count": null,
   "metadata": {},
   "outputs": [],
   "source": [
    "# NOTE: Keep in mind that large images equals more tokens, so don't use too large images!\n",
    "\n",
    "# Image from URL\n",
    "width, height = 250, 250  # Crop images from sahlgrenska.se\n",
    "images = {\n",
    "    \"vårdmöte01\": f\"https://www.sahlgrenska.se/contentassets/fac0b962e2724b43b342f6c463518f25/cropped-vgr18-su311732.jpg?w={width}&h={height}&mode=crop&anchor=topcenter\",\n",
    "}\n",
    "image_url = images[\"vårdmöte01\"]\n",
    "display(Image(url=image_url))\n"
   ]
  },
  {
   "cell_type": "code",
   "execution_count": null,
   "metadata": {},
   "outputs": [],
   "source": [
    "# Ask a question\n",
    "question = \"\"\"Beskriv vad du ser i bilden på ett sådant sätt att den kan återskapas av någon som inte sett den. Var detaljerad och målande.\"\"\"\n",
    "user_input = [\n",
    "  {\"type\": \"text\", \"text\": question},\n",
    "  {\"type\": \"image_url\", \"image_url\": {\"url\": image_url}},\n",
    "]\n",
    "print(f\"user: {question}\")\n",
    "\n",
    "# Create payload for the request\n",
    "messages = [system_msg, *history, {\"role\": \"user\", \"content\": user_input}]\n",
    "payload = {\n",
    "  \"messages\": messages,\n",
    "  \"temperature\": 0.7,\n",
    "  \"top_p\": 0.95,\n",
    "  \"max_tokens\": 3000,\n",
    "}\n",
    "\n",
    "# Send request\n",
    "try:\n",
    "    response = requests.post(gpt4v_endpoint, headers=headers, json=payload)\n",
    "    response.raise_for_status()  # Will raise an HTTPError if the HTTP request returned an unsuccessful status code\n",
    "    response = response.json()[\"choices\"][0][\"message\"]\n",
    "except requests.RequestException as e:\n",
    "    raise SystemExit(f\"Failed to make the request. Error: {e}\")\n",
    "print(f\"assistant: {response['content']}\")\n",
    "\n",
    "# Update history\n",
    "# NOTE: Image should not added to history\n",
    "history += [{\"role\": \"user\", \"content\": [{\"type\": \"text\", \"text\": question}]}] + [response]\n"
   ]
  },
  {
   "cell_type": "code",
   "execution_count": null,
   "metadata": {},
   "outputs": [],
   "source": [
    "# Print history\n",
    "for msg in history:\n",
    "    if isinstance(msg[\"content\"], list):\n",
    "        print(f\"{msg['role']}: {msg['content'][0]['text']}\")\n",
    "    else:\n",
    "        print(f\"{msg['role']}: {msg['content']}\")\n"
   ]
  }
 ],
 "metadata": {
  "kernelspec": {
   "display_name": "Python 3",
   "language": "python",
   "name": "python3"
  },
  "language_info": {
   "codemirror_mode": {
    "name": "ipython",
    "version": 3
   },
   "file_extension": ".py",
   "mimetype": "text/x-python",
   "name": "python",
   "nbconvert_exporter": "python",
   "pygments_lexer": "ipython3",
   "version": "3.10.12"
  }
 },
 "nbformat": 4,
 "nbformat_minor": 2
}
