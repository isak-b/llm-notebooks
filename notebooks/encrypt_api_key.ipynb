{
 "cells": [
  {
   "cell_type": "code",
   "execution_count": null,
   "metadata": {},
   "outputs": [],
   "source": [
    "from getpass import getpass\n",
    "from cryptography.fernet import Fernet\n",
    "from cryptography.hazmat.backends import default_backend\n",
    "from cryptography.hazmat.primitives import hashes\n",
    "from cryptography.hazmat.primitives.kdf.pbkdf2 import PBKDF2HMAC\n",
    "import base64\n",
    "\n",
    "# Password to decrypt the key\n",
    "password = getpass(\"password:\")\n",
    "api_key = getpass(\"api_key:\")\n",
    "\n",
    "# Encrypt\n",
    "kdf = PBKDF2HMAC(\n",
    "    algorithm=hashes.SHA256(),\n",
    "    length=32,\n",
    "    salt=b\"salt_salt_salt\",\n",
    "    iterations=100000,\n",
    "    backend=default_backend()\n",
    ")\n",
    "key = base64.urlsafe_b64encode(kdf.derive(password.encode()))\n",
    "cipher_suite = Fernet(key)\n",
    "encrypted_api_key = cipher_suite.encrypt(api_key.encode()).decode()\n",
    "print(\"encrypted api_key:\", encrypted_api_key)\n"
   ]
  },
  {
   "cell_type": "code",
   "execution_count": null,
   "metadata": {},
   "outputs": [],
   "source": [
    "decrypted_api_key = cipher_suite.decrypt(encrypted_api_key.encode()).decode()\n",
    "print(\"Dekrypterad API-nyckel:\", decrypted_api_key)\n"
   ]
  }
 ],
 "metadata": {
  "kernelspec": {
   "display_name": "Python 3",
   "language": "python",
   "name": "python3"
  },
  "language_info": {
   "codemirror_mode": {
    "name": "ipython",
    "version": 3
   },
   "file_extension": ".py",
   "mimetype": "text/x-python",
   "name": "python",
   "nbconvert_exporter": "python",
   "pygments_lexer": "ipython3",
   "version": "3.10.12"
  }
 },
 "nbformat": 4,
 "nbformat_minor": 2
}
