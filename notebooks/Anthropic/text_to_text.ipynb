{
 "cells": [
  {
   "cell_type": "code",
   "execution_count": null,
   "metadata": {},
   "outputs": [],
   "source": [
    "from dotenv import load_dotenv\n",
    "from anthropic import Anthropic\n",
    "\n",
    "# Load .env\n",
    "load_dotenv(override=True)\n",
    "\n",
    "# Configure API\n",
    "client = Anthropic()\n",
    "model = \"claude-3-5-sonnet-20241022\"\n",
    "\n",
    "# Reset history\n",
    "history = []\n"
   ]
  },
  {
   "cell_type": "code",
   "execution_count": null,
   "metadata": {},
   "outputs": [],
   "source": [
    "# Write an intruction\n",
    "instructions = \"\"\"\n",
    "You are a helpful assistant.\n",
    "\"\"\"\n"
   ]
  },
  {
   "cell_type": "code",
   "execution_count": null,
   "metadata": {},
   "outputs": [],
   "source": [
    "# Ask a question\n",
    "question = input(\"Question: \")\n",
    "print(f\"user: {question}\")\n",
    "\n",
    "# Get answer\n",
    "messages = history + [{\"role\": \"user\", \"content\": question}]\n",
    "response = dict(\n",
    "    client.messages.create(\n",
    "        system=instructions,\n",
    "        model=model,\n",
    "        messages=messages,\n",
    "        max_tokens=1000,\n",
    "        )\n",
    ")\n",
    "print(f\"assistant: {response['content'][0].text}\")\n",
    "\n",
    "# Update history\n",
    "history += [{\"role\": \"user\", \"content\": question}] + [{\"role\": response[\"role\"], \"content\": response[\"content\"][0].text}]\n"
   ]
  },
  {
   "cell_type": "code",
   "execution_count": null,
   "metadata": {},
   "outputs": [],
   "source": [
    "# Print history\n",
    "for msg in history:\n",
    "    print(f\"{msg['role']}: {msg['content']}\\n\")\n"
   ]
  }
 ],
 "metadata": {
  "kernelspec": {
   "display_name": "Python 3",
   "language": "python",
   "name": "python3"
  },
  "language_info": {
   "codemirror_mode": {
    "name": "ipython",
    "version": 3
   },
   "file_extension": ".py",
   "mimetype": "text/x-python",
   "name": "python",
   "nbconvert_exporter": "python",
   "pygments_lexer": "ipython3",
   "version": "3.11.6"
  }
 },
 "nbformat": 4,
 "nbformat_minor": 2
}
