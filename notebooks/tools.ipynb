{
 "cells": [
  {
   "cell_type": "code",
   "execution_count": null,
   "metadata": {},
   "outputs": [],
   "source": [
    "import os\n",
    "import PIL.Image\n",
    "from urllib.request import urlopen\n",
    "from dotenv import load_dotenv\n",
    "from openai import AzureOpenAI\n",
    "\n",
    "# Load .env\n",
    "load_dotenv(override=True)\n",
    "\n",
    "# Configure API\n",
    "client = AzureOpenAI(\n",
    "    azure_endpoint=os.getenv(\"AZURE_OPENAI_ENDPOINT\"),\n",
    "    api_version=os.getenv(\"AZURE_OPENAI_VERSION\"),\n",
    "    api_key=os.getenv(\"AZURE_OPENAI_KEY\"),\n",
    ")\n",
    "\n",
    "chat_model = \"gpt35\"\n",
    "image_model = \"dall-e-3\"\n"
   ]
  },
  {
   "cell_type": "code",
   "execution_count": null,
   "metadata": {},
   "outputs": [],
   "source": [
    "# Write an intruction\n",
    "instructions = \"\"\"\n",
    "Du är en hjälpsam assistent som kan svara på frågor och generera bilder.\n",
    "\"\"\"\n",
    "\n",
    "tools = [\n",
    "    {\n",
    "        \"type\": \"function\",\n",
    "        \"function\": {\n",
    "            \"name\": \"create_answer\",\n",
    "            \"description\": \"Create an answer based on the question\",\n",
    "        },\n",
    "    },\n",
    "    {\n",
    "        \"type\": \"function\",\n",
    "        \"function\": {\n",
    "            \"name\": \"create_image\",\n",
    "            \"description\": \"Create an image based on the question\",\n",
    "        },\n",
    "    },\n",
    "]\n",
    "\n",
    "def create_answer(messages: list):\n",
    "    response = client.chat.completions.create(messages=messages, model=chat_model)\n",
    "    answer = {\"role\": \"assistant\", \"content\": response.choices[0].message.content}\n",
    "    return answer\n",
    "\n",
    "def create_image(messages: list):\n",
    "    prompt = messages[-1][\"content\"]\n",
    "    response = client.images.generate(prompt=prompt, model=image_model)\n",
    "    revised_prompt = response.data[0].revised_prompt\n",
    "    url = response.data[0].url\n",
    "    img = PIL.Image.open(urlopen(url)).convert(\"RGBA\")\n",
    "    return {\"role\": \"assistant\", \"content\": revised_prompt, \"img\": img}\n",
    "\n",
    "def chat(question: str):\n",
    "    print(\"user:\", question)\n",
    "\n",
    "    # Get tool_calls from question\n",
    "    messages = [{\"role\": \"system\", \"content\": instructions}] + [{\"role\": \"user\", \"content\": question}]\n",
    "    response = client.chat.completions.create(messages=messages, tools=tools, model=chat_model)\n",
    "    tool_calls = response.choices[0].message.tool_calls\n",
    "\n",
    "    # Create output from tool_calls\n",
    "    output = []\n",
    "    if tool_calls is None:\n",
    "        print(\"tool_call: None\")\n",
    "        result = create_answer(messages)\n",
    "        output.append(result)\n",
    "    else:\n",
    "        for tool_call in tool_calls:\n",
    "            if tool_call.function.name == \"create_answer\":\n",
    "                print(\"tool_call: create_answer()\")\n",
    "                result = create_answer(messages)\n",
    "            elif tool_call.function.name == \"create_image\":\n",
    "                print(\"tool_call: create_image()\")\n",
    "                result = create_image(messages)\n",
    "            output.append(result)\n",
    "\n",
    "    # Print output\n",
    "    for msg in output:\n",
    "        print(f\"{msg['role']}:\\n'{msg['content']}'\")\n",
    "\n",
    "        # Display image\n",
    "        if \"img\" in msg:\n",
    "            display(msg[\"img\"])\n"
   ]
  },
  {
   "cell_type": "code",
   "execution_count": null,
   "metadata": {},
   "outputs": [],
   "source": [
    "question = \"\"\"Skriv en haiku om en grön fluffig hund\"\"\"\n",
    "chat(question)\n"
   ]
  },
  {
   "cell_type": "code",
   "execution_count": null,
   "metadata": {},
   "outputs": [],
   "source": [
    "question = \"\"\"Skapa en bild av en grön fluffig hund\"\"\"\n",
    "chat(question)\n"
   ]
  },
  {
   "cell_type": "code",
   "execution_count": null,
   "metadata": {},
   "outputs": [],
   "source": []
  }
 ],
 "metadata": {
  "kernelspec": {
   "display_name": "Python 3",
   "language": "python",
   "name": "python3"
  },
  "language_info": {
   "codemirror_mode": {
    "name": "ipython",
    "version": 3
   },
   "file_extension": ".py",
   "mimetype": "text/x-python",
   "name": "python",
   "nbconvert_exporter": "python",
   "pygments_lexer": "ipython3",
   "version": "3.10.12"
  }
 },
 "nbformat": 4,
 "nbformat_minor": 2
}
