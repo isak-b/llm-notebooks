{
 "cells": [
  {
   "cell_type": "code",
   "execution_count": null,
   "metadata": {},
   "outputs": [],
   "source": [
    "from IPython.display import Image\n",
    "from dotenv import load_dotenv\n",
    "from openai import OpenAI\n",
    "\n",
    "# Load .env\n",
    "load_dotenv(override=True)\n",
    "\n",
    "# Configure API\n",
    "client = OpenAI()\n",
    "chat_model = \"gpt-4o-mini\"\n",
    "image_model = \"dall-e-3\"\n"
   ]
  },
  {
   "cell_type": "code",
   "execution_count": null,
   "metadata": {},
   "outputs": [],
   "source": [
    "# Write an intruction\n",
    "instructions = \"\"\"\n",
    "You are a helpful assistant who can answer questions and generate\n",
    "\"\"\"\n",
    "\n",
    "tools = [\n",
    "    {\n",
    "        \"type\": \"function\",\n",
    "        \"function\": {\n",
    "            \"name\": \"create_answer\",\n",
    "            \"description\": \"Create an answer based on the question\",\n",
    "        },\n",
    "    },\n",
    "    {\n",
    "        \"type\": \"function\",\n",
    "        \"function\": {\n",
    "            \"name\": \"create_image\",\n",
    "            \"description\": \"Create an image based on the question\",\n",
    "        },\n",
    "    },\n",
    "]\n",
    "\n",
    "def create_answer(messages: list):\n",
    "    response = client.chat.completions.create(messages=messages, model=chat_model)\n",
    "    return {\"role\": \"assistant\", \"content\": response.choices[0].message.content}\n",
    "\n",
    "\n",
    "def create_image(messages: list):\n",
    "    prompt = messages[-1][\"content\"]\n",
    "    result = client.images.generate(model=image_model, prompt=prompt, n=1, style=\"natural\")\n",
    "    revised_prompt = result.data[0].revised_prompt\n",
    "    print(f\"revised_prompt: {revised_prompt}\")\n",
    "    image_url = result.data[0].url\n",
    "    img = Image(url=image_url)\n",
    "    return {\"role\": \"assistant\", \"content\": revised_prompt, \"img\": img}\n",
    "\n",
    "\n",
    "def execute_tool(messages: list, tool_name: str):\n",
    "    \"\"\"Helper function to execute tool by name.\"\"\"\n",
    "    if tool_name == \"create_answer\":\n",
    "        return create_answer(messages)\n",
    "    elif tool_name == \"create_image\":\n",
    "        return create_image(messages)\n",
    "    return None\n",
    "\n",
    "\n",
    "def chat(question: str):\n",
    "    print(\"user:\", question)\n",
    "\n",
    "    # Get tool_calls from question\n",
    "    messages = [{\"role\": \"system\", \"content\": instructions}] + [{\"role\": \"user\", \"content\": question}]\n",
    "    response = client.chat.completions.create(\n",
    "        messages=messages, tools=tools, model=chat_model, tool_choice=\"required\",\n",
    "    )\n",
    "    tool_calls = response.choices[0].message.tool_calls\n",
    "\n",
    "    # Create output from tool_calls\n",
    "    output = []\n",
    "    for tool_call in tool_calls:\n",
    "        print(f\"tool_call: {tool_call.function.name}()\")\n",
    "        result = execute_tool(messages=messages, tool_name=tool_call.function.name)\n",
    "        output.append(result)\n",
    "\n",
    "    # Print output\n",
    "    for msg in output:\n",
    "        print(f\"{msg['role']}:\\n'{msg['content']}'\")\n",
    "        if \"img\" in msg:\n",
    "            display(msg[\"img\"])\n"
   ]
  },
  {
   "cell_type": "code",
   "execution_count": null,
   "metadata": {},
   "outputs": [],
   "source": [
    "question = \"\"\"Write a haiku about a green dog named Sam\"\"\"\n",
    "chat(question)\n"
   ]
  },
  {
   "cell_type": "code",
   "execution_count": null,
   "metadata": {},
   "outputs": [],
   "source": [
    "question = \"\"\"Create an image of a green dog\"\"\"\n",
    "chat(question)\n"
   ]
  },
  {
   "cell_type": "code",
   "execution_count": null,
   "metadata": {},
   "outputs": [],
   "source": []
  }
 ],
 "metadata": {
  "kernelspec": {
   "display_name": "Python 3",
   "language": "python",
   "name": "python3"
  },
  "language_info": {
   "codemirror_mode": {
    "name": "ipython",
    "version": 3
   },
   "file_extension": ".py",
   "mimetype": "text/x-python",
   "name": "python",
   "nbconvert_exporter": "python",
   "pygments_lexer": "ipython3",
   "version": "3.11.6"
  }
 },
 "nbformat": 4,
 "nbformat_minor": 2
}
