{
 "cells": [
  {
   "cell_type": "code",
   "execution_count": null,
   "metadata": {},
   "outputs": [],
   "source": [
    "from IPython.display import Audio\n",
    "from dotenv import load_dotenv\n",
    "from openai import OpenAI\n",
    "\n",
    "# Load .env\n",
    "load_dotenv(override=True)\n",
    "\n",
    "# Configure API\n",
    "client = OpenAI()\n",
    "model = \"tts-1\"\n"
   ]
  },
  {
   "cell_type": "code",
   "execution_count": null,
   "metadata": {},
   "outputs": [],
   "source": [
    "# voices: \"nova\", \"shimmer\", \"echo\", \"onyx\", \"fable\", \"alloy\"\n",
    "text_input = \"hello, how are you?\"\n",
    "result = client.audio.speech.create(input=text_input, model=model, voice=\"nova\")\n",
    "result.write_to_file(\"../../output/tts_output.wav\")\n",
    "display(Audio(\"../../output/tts_output.wav\"))\n"
   ]
  },
  {
   "cell_type": "code",
   "execution_count": null,
   "metadata": {},
   "outputs": [],
   "source": []
  }
 ],
 "metadata": {
  "kernelspec": {
   "display_name": "Python 3",
   "language": "python",
   "name": "python3"
  },
  "language_info": {
   "codemirror_mode": {
    "name": "ipython",
    "version": 3
   },
   "file_extension": ".py",
   "mimetype": "text/x-python",
   "name": "python",
   "nbconvert_exporter": "python",
   "pygments_lexer": "ipython3",
   "version": "3.11.6"
  }
 },
 "nbformat": 4,
 "nbformat_minor": 2
}
