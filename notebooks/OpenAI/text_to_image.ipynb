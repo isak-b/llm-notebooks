{
 "cells": [
  {
   "cell_type": "code",
   "execution_count": null,
   "metadata": {},
   "outputs": [],
   "source": [
    "from IPython.display import Image\n",
    "from dotenv import load_dotenv\n",
    "from openai import OpenAI\n",
    "\n",
    "# Load .env\n",
    "load_dotenv(override=True)\n",
    "\n",
    "# Configure API\n",
    "client = OpenAI()\n",
    "model = \"dall-e-3\"\n"
   ]
  },
  {
   "cell_type": "code",
   "execution_count": null,
   "metadata": {},
   "outputs": [],
   "source": [
    "prompt = \"\"\"\n",
    "Draw a watercolor painting.\n",
    "\"\"\"\n",
    "\n",
    "# Generate image\n",
    "result = client.images.generate(model=model, prompt=prompt, n=1, style=\"natural\")\n",
    "revised_prompt = result.data[0].revised_prompt\n",
    "print(f\"revised_prompt: {revised_prompt}\")\n",
    "image_url = result.data[0].url\n",
    "Image(url=image_url)\n"
   ]
  },
  {
   "cell_type": "code",
   "execution_count": null,
   "metadata": {},
   "outputs": [],
   "source": []
  }
 ],
 "metadata": {
  "kernelspec": {
   "display_name": "Python 3",
   "language": "python",
   "name": "python3"
  },
  "language_info": {
   "codemirror_mode": {
    "name": "ipython",
    "version": 3
   },
   "file_extension": ".py",
   "mimetype": "text/x-python",
   "name": "python",
   "nbconvert_exporter": "python",
   "pygments_lexer": "ipython3",
   "version": "3.11.6"
  }
 },
 "nbformat": 4,
 "nbformat_minor": 2
}
