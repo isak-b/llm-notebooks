{
 "cells": [
  {
   "cell_type": "code",
   "execution_count": null,
   "metadata": {},
   "outputs": [],
   "source": [
    "import os\n",
    "from dotenv import load_dotenv\n",
    "from openai import AzureOpenAI\n",
    "\n",
    "# Load .env\n",
    "load_dotenv(override=True)\n",
    "\n",
    "# Configure API\n",
    "client = AzureOpenAI(\n",
    "    azure_endpoint=os.getenv(\"AZURE_OPENAI_ENDPOINT\"),\n",
    "    api_version=os.getenv(\"AZURE_OPENAI_VERSION\"),\n",
    "    api_key=os.getenv(\"AZURE_OPENAI_KEY\"),\n",
    ")\n",
    "\n",
    "# models: [\"gpt35\", \"gpt4\"]\n",
    "model = \"gpt35\"\n",
    "\n",
    "# Reset history\n",
    "history = []\n"
   ]
  },
  {
   "cell_type": "code",
   "execution_count": null,
   "metadata": {},
   "outputs": [],
   "source": [
    "# Write an intruction\n",
    "instructions = \"\"\"\n",
    "Du är en hjälpsam assistent.\n",
    "\"\"\"\n"
   ]
  },
  {
   "cell_type": "code",
   "execution_count": null,
   "metadata": {},
   "outputs": [],
   "source": [
    "# Ask a question\n",
    "question = \"\"\"Vad bör man tänka på innan blodtagning?\"\"\"\n",
    "print(f\"user: {question}\")\n",
    "\n",
    "# Get answer\n",
    "messages = [{\"role\": \"system\", \"content\": instructions}] + history + [{\"role\": \"user\", \"content\": question}]\n",
    "response = dict(client.chat.completions.create(model=model, messages=messages).choices[0].message)\n",
    "print(f\"assistant: {response['content']}\")\n",
    "\n",
    "# Update history\n",
    "history += [{\"role\": \"user\", \"content\": question}] + [{\"role\": response[\"role\"], \"content\": response[\"content\"]}]\n"
   ]
  },
  {
   "cell_type": "code",
   "execution_count": null,
   "metadata": {},
   "outputs": [],
   "source": [
    "# Print history\n",
    "for msg in history:\n",
    "    print(f\"{msg['role']}: {msg['content']}\")\n"
   ]
  }
 ],
 "metadata": {
  "kernelspec": {
   "display_name": "Python 3",
   "language": "python",
   "name": "python3"
  },
  "language_info": {
   "codemirror_mode": {
    "name": "ipython",
    "version": 3
   },
   "file_extension": ".py",
   "mimetype": "text/x-python",
   "name": "python",
   "nbconvert_exporter": "python",
   "pygments_lexer": "ipython3",
   "version": "3.10.12"
  }
 },
 "nbformat": 4,
 "nbformat_minor": 2
}
