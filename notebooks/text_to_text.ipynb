{
 "cells": [
  {
   "cell_type": "code",
   "execution_count": null,
   "metadata": {},
   "outputs": [],
   "source": [
    "from dotenv import load_dotenv\n",
    "from openai import OpenAI\n",
    "\n",
    "# Load .env\n",
    "load_dotenv(override=True)\n",
    "\n",
    "# Configure API\n",
    "client = OpenAI()\n",
    "model = \"gpt-3.5-turbo-0125\"\n",
    "\n",
    "# Reset history\n",
    "history = []\n"
   ]
  },
  {
   "cell_type": "code",
   "execution_count": null,
   "metadata": {},
   "outputs": [],
   "source": [
    "# Write an intruction\n",
    "instructions = \"\"\"\n",
    "Du är en hjälpsam assistent.\n",
    "\"\"\"\n"
   ]
  },
  {
   "cell_type": "code",
   "execution_count": null,
   "metadata": {},
   "outputs": [],
   "source": [
    "# Ask a question\n",
    "question = input(\"Fråga: \")\n",
    "print(f\"user: {question}\")\n",
    "\n",
    "# Get answer\n",
    "messages = [{\"role\": \"system\", \"content\": instructions}] + history + [{\"role\": \"user\", \"content\": question}]\n",
    "response = dict(client.chat.completions.create(model=model, messages=messages).choices[0].message)\n",
    "print(f\"assistant: {response['content']}\")\n",
    "\n",
    "# Update history\n",
    "history += [{\"role\": \"user\", \"content\": question}] + [{\"role\": response[\"role\"], \"content\": response[\"content\"]}]\n"
   ]
  },
  {
   "cell_type": "code",
   "execution_count": null,
   "metadata": {},
   "outputs": [],
   "source": [
    "# Print history\n",
    "for msg in history:\n",
    "    print(f\"{msg['role']}: {msg['content']}\")\n"
   ]
  }
 ],
 "metadata": {
  "kernelspec": {
   "display_name": "Python 3",
   "language": "python",
   "name": "python3"
  },
  "language_info": {
   "codemirror_mode": {
    "name": "ipython",
    "version": 3
   },
   "file_extension": ".py",
   "mimetype": "text/x-python",
   "name": "python",
   "nbconvert_exporter": "python",
   "pygments_lexer": "ipython3",
   "version": "3.10.12"
  }
 },
 "nbformat": 4,
 "nbformat_minor": 2
}
